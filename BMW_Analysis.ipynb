{
 "cells": [
  {
   "cell_type": "markdown",
   "metadata": {},
   "source": [
    "# <center>Predictive model to assess BMW used automobile prices</center>\n",
    "\n",
    "### <center> 27 June 2021 </center>\n",
    "    \n",
    "    \n",
    "### **Table of Contents**\n",
    "1. Project Motivation\n",
    "2. The Dataset\n",
    "3. Analysis Plan\n",
    "4. Performance Metrics\n",
    "5. Exploratory Data Analysis\n",
    "6. Exploratory Data Analysis Summary\n",
    "7. Model Development\n",
    "8. Conclusion\n",
    "9. References"
   ]
  },
  {
   "cell_type": "markdown",
   "metadata": {},
   "source": [
    "## 1. Project Motivation\n",
    "\n",
    "During the CoViD-19 pandemic, due to the accelerated transition to working from home and lockdowns all around the world, the demand for microchips used in electronics has increased with the demand for these devices. However, being produced by the same manufacturers with microchips for electronic devices, microchips for motor vehicles had to be pushed backwards in terms of priorities and this caused a shortage of chips in the motor vehicle industry.\n",
    "\n",
    "Many great motor vehicle manufacturing companies cut production because of this chip shortage and less vehicles have entered to the market both in terms of quantity and variety.\n",
    "\n",
    "Second hand vehicles are more in demand than ever now with the decrease in the supply of new vehicles and prices rose considerably. To get an insight of what factors have become more effective in pricing of used vehicles and respond accordingly to the gap of new cars in the market, BMW needs to analyze and model the data of recent used car sales.\n",
    "\n",
    "This project aims to find out the effect of different factors of a car in pricing and create a model that predicts the price of a second hand BMW car that is on the market, or a BMW that is being sold."
   ]
  },
  {
   "cell_type": "markdown",
   "metadata": {},
   "source": [
    "## 2. The Dataset\n",
    "\n",
    "BMW Used Car Sales dataset can be found on [Datacamp Career Hub on Github](https://github.com/datacamp/careerhub-data/blob/master/BMW%20Used%20Car%20Sales/README.md#bmw-used-car-sales)"
   ]
  },
  {
   "cell_type": "markdown",
   "metadata": {},
   "source": [
    "### 2.1 Data Description\n",
    "\n",
    "The data consists of 8 features and one target variable, price."
   ]
  },
  {
   "cell_type": "markdown",
   "metadata": {},
   "source": [
    "#### 2.1.1 Feature Variables\n",
    "\n",
    "| Feature | Description | Data Type |\n",
    "| ----------- | ----------- | ----------- |\n",
    "| model | Model name of the automobile | categorical |\n",
    "| year | Model year of the automobile | ordinal |\n",
    "| transmission | Transmission type of the automobile | categorical |\n",
    "| mileage | The distance the automobile has traveled in miles | numerical |\n",
    "| fuelType | Whether the automobile runs on petrol or diesel | categorical |\n",
    "| tax | Road tax of the automobile | numerical |\n",
    "| mpg | Fuel consumption of the automobile (miles per gallon) | numerical |\n",
    "| engineSize | Volume of the engine of the automobile in liter | ordinal |\n",
    "\n",
    "#### 2.1.2 Target Variable\n",
    "\n",
    "Target variable of the dataset is the sales price of the automobile, represented as **\"price\"** in the dataset and is a **numeric** variable."
   ]
  },
  {
   "cell_type": "markdown",
   "metadata": {},
   "source": [
    "## 3. Analysis Plan\n",
    "\n",
    "This is a supervised single-variable regression analysis. The output of the model should be a single numerical value representing the price of the automobile.  \n",
    "The following steps will be followed\n",
    "1. Identify possible suitable performance metrics to measure the success of the analysis\n",
    "2. Apply exploratory data analysis to get insights about the data and detect problems in the dataset\n",
    "3. Select a suitable algorithm for model training to predict the data points out of the dataset\n",
    "4. Fit, fine tune, evaluate and validate the model to get the model with the best performance\n",
    "5. Provide discussions about the ways to improve the model"
   ]
  },
  {
   "cell_type": "markdown",
   "metadata": {},
   "source": [
    "# 4. Performance Metrics\n",
    "\n",
    "The target variable is a numerical continuous value. To measure the accuracy of the prediction of the model, an appropriate performance metric should be selected. Mean squared error or mean absolute error could be used for this purpose.\n",
    "\n",
    "**Mean Squared Error (MSE)**  \n",
    "\n",
    "Mean squared error is a popular metric that is used to calculate average of squared deviation of predicted values from actual values in the dataset.\n",
    "\n",
    "For each data point, a residual error value is calculated and squared. Then the metric, mean squared error, is calculated as average of these values. \n",
    "\n",
    "**Mean Absolute Error (MSE)**  \n",
    "\n",
    "Mean absolute error is calculated very similarly to mean squared error. Error value for each point is calculated and then the metric mean absolute error is calculated as average of absolute values of.\n",
    "\n",
    "Difference between MSE and MAE is that MSE behaves relatively more punishing than MAE as it squares the error values. MAE is more robust when there are extreme high or extreme low values in the dataset.  "
   ]
  },
  {
   "cell_type": "markdown",
   "metadata": {},
   "source": [
    "# 5. Exploratory Data Analysis\n",
    "\n",
    "In order to get accurate results, the dataset should be inspected for data quality to behave accordingly.\n",
    "\n",
    "We can start by importing necessary modules and the dataset."
   ]
  },
  {
   "cell_type": "code",
   "execution_count": 1,
   "metadata": {
    "scrolled": true
   },
   "outputs": [
    {
     "data": {
      "text/html": [
       "<div>\n",
       "<style scoped>\n",
       "    .dataframe tbody tr th:only-of-type {\n",
       "        vertical-align: middle;\n",
       "    }\n",
       "\n",
       "    .dataframe tbody tr th {\n",
       "        vertical-align: top;\n",
       "    }\n",
       "\n",
       "    .dataframe thead th {\n",
       "        text-align: right;\n",
       "    }\n",
       "</style>\n",
       "<table border=\"1\" class=\"dataframe\">\n",
       "  <thead>\n",
       "    <tr style=\"text-align: right;\">\n",
       "      <th></th>\n",
       "      <th>model</th>\n",
       "      <th>year</th>\n",
       "      <th>price</th>\n",
       "      <th>transmission</th>\n",
       "      <th>mileage</th>\n",
       "      <th>fuelType</th>\n",
       "      <th>tax</th>\n",
       "      <th>mpg</th>\n",
       "      <th>engineSize</th>\n",
       "    </tr>\n",
       "  </thead>\n",
       "  <tbody>\n",
       "    <tr>\n",
       "      <th>0</th>\n",
       "      <td>5 Series</td>\n",
       "      <td>2014</td>\n",
       "      <td>11200</td>\n",
       "      <td>Automatic</td>\n",
       "      <td>67068</td>\n",
       "      <td>Diesel</td>\n",
       "      <td>125</td>\n",
       "      <td>57.6</td>\n",
       "      <td>2.0</td>\n",
       "    </tr>\n",
       "    <tr>\n",
       "      <th>1</th>\n",
       "      <td>6 Series</td>\n",
       "      <td>2018</td>\n",
       "      <td>27000</td>\n",
       "      <td>Automatic</td>\n",
       "      <td>14827</td>\n",
       "      <td>Petrol</td>\n",
       "      <td>145</td>\n",
       "      <td>42.8</td>\n",
       "      <td>2.0</td>\n",
       "    </tr>\n",
       "    <tr>\n",
       "      <th>2</th>\n",
       "      <td>5 Series</td>\n",
       "      <td>2016</td>\n",
       "      <td>16000</td>\n",
       "      <td>Automatic</td>\n",
       "      <td>62794</td>\n",
       "      <td>Diesel</td>\n",
       "      <td>160</td>\n",
       "      <td>51.4</td>\n",
       "      <td>3.0</td>\n",
       "    </tr>\n",
       "    <tr>\n",
       "      <th>3</th>\n",
       "      <td>1 Series</td>\n",
       "      <td>2017</td>\n",
       "      <td>12750</td>\n",
       "      <td>Automatic</td>\n",
       "      <td>26676</td>\n",
       "      <td>Diesel</td>\n",
       "      <td>145</td>\n",
       "      <td>72.4</td>\n",
       "      <td>1.5</td>\n",
       "    </tr>\n",
       "    <tr>\n",
       "      <th>4</th>\n",
       "      <td>7 Series</td>\n",
       "      <td>2014</td>\n",
       "      <td>14500</td>\n",
       "      <td>Automatic</td>\n",
       "      <td>39554</td>\n",
       "      <td>Diesel</td>\n",
       "      <td>160</td>\n",
       "      <td>50.4</td>\n",
       "      <td>3.0</td>\n",
       "    </tr>\n",
       "  </tbody>\n",
       "</table>\n",
       "</div>"
      ],
      "text/plain": [
       "       model  year  price transmission  mileage fuelType  tax   mpg  \\\n",
       "0   5 Series  2014  11200    Automatic    67068   Diesel  125  57.6   \n",
       "1   6 Series  2018  27000    Automatic    14827   Petrol  145  42.8   \n",
       "2   5 Series  2016  16000    Automatic    62794   Diesel  160  51.4   \n",
       "3   1 Series  2017  12750    Automatic    26676   Diesel  145  72.4   \n",
       "4   7 Series  2014  14500    Automatic    39554   Diesel  160  50.4   \n",
       "\n",
       "   engineSize  \n",
       "0         2.0  \n",
       "1         2.0  \n",
       "2         3.0  \n",
       "3         1.5  \n",
       "4         3.0  "
      ]
     },
     "execution_count": 1,
     "metadata": {},
     "output_type": "execute_result"
    }
   ],
   "source": [
    "import pandas as pd\n",
    "import matplotlib.pyplot as plt\n",
    "import seaborn as sns\n",
    "\n",
    "%matplotlib inline\n",
    "sns.set_theme(context='notebook', style='whitegrid', palette='pastel')\n",
    "\n",
    "BMW = pd.read_csv('BMW.csv')\n",
    "BMW.head()"
   ]
  },
  {
   "cell_type": "markdown",
   "metadata": {},
   "source": [
    "Further inspection of dataset"
   ]
  },
  {
   "cell_type": "code",
   "execution_count": 2,
   "metadata": {
    "scrolled": false
   },
   "outputs": [
    {
     "name": "stdout",
     "output_type": "stream",
     "text": [
      "Number of null Values in each feature: \n",
      "model           0\n",
      "year            0\n",
      "price           0\n",
      "transmission    0\n",
      "mileage         0\n",
      "fuelType        0\n",
      "tax             0\n",
      "mpg             0\n",
      "engineSize      0\n",
      "dtype: int64 \n",
      "\n",
      "<class 'pandas.core.frame.DataFrame'>\n",
      "RangeIndex: 10781 entries, 0 to 10780\n",
      "Data columns (total 9 columns):\n",
      " #   Column        Non-Null Count  Dtype  \n",
      "---  ------        --------------  -----  \n",
      " 0   model         10781 non-null  object \n",
      " 1   year          10781 non-null  int64  \n",
      " 2   price         10781 non-null  int64  \n",
      " 3   transmission  10781 non-null  object \n",
      " 4   mileage       10781 non-null  int64  \n",
      " 5   fuelType      10781 non-null  object \n",
      " 6   tax           10781 non-null  int64  \n",
      " 7   mpg           10781 non-null  float64\n",
      " 8   engineSize    10781 non-null  float64\n",
      "dtypes: float64(2), int64(4), object(3)\n",
      "memory usage: 758.2+ KB\n"
     ]
    },
    {
     "data": {
      "text/plain": [
       "None"
      ]
     },
     "metadata": {},
     "output_type": "display_data"
    }
   ],
   "source": [
    "print(\"Number of null Values in each feature: \\n\" + str(BMW.isna().sum()), \"\\n\")\n",
    "display(BMW.info())"
   ]
  },
  {
   "cell_type": "markdown",
   "metadata": {},
   "source": [
    "The dataset consists of 10781 entries and it seems considerably large enough to get accurate results from the analysis.\n",
    "\n",
    "Above, it is seen that there are no null entry in the dataset. However, when predicting new entries, null values should be handled.\n",
    "\n",
    "Data types of the columns model, transmission, fuelType, mpg and price should be reassigned to the data types mentioned in Section 2. "
   ]
  },
  {
   "cell_type": "code",
   "execution_count": 3,
   "metadata": {},
   "outputs": [
    {
     "name": "stdout",
     "output_type": "stream",
     "text": [
      "<class 'pandas.core.frame.DataFrame'>\n",
      "RangeIndex: 10781 entries, 0 to 10780\n",
      "Data columns (total 9 columns):\n",
      " #   Column        Non-Null Count  Dtype   \n",
      "---  ------        --------------  -----   \n",
      " 0   model         10781 non-null  category\n",
      " 1   year          10781 non-null  int64   \n",
      " 2   price         10781 non-null  float64 \n",
      " 3   transmission  10781 non-null  category\n",
      " 4   mileage       10781 non-null  float64 \n",
      " 5   fuelType      10781 non-null  category\n",
      " 6   tax           10781 non-null  int64   \n",
      " 7   mpg           10781 non-null  int64   \n",
      " 8   engineSize    10781 non-null  float64 \n",
      "dtypes: category(3), float64(3), int64(3)\n",
      "memory usage: 538.2 KB\n"
     ]
    }
   ],
   "source": [
    "BMW.model = BMW.model.astype(\"category\")\n",
    "BMW.transmission = BMW.transmission.astype(\"category\")\n",
    "BMW.fuelType = BMW.fuelType.astype(\"category\")\n",
    "BMW.mpg = BMW.mpg.astype(\"int64\")\n",
    "BMW.price = BMW.price.astype(\"float64\")\n",
    "BMW.mileage = BMW.mileage.astype(\"float64\")\n",
    "\n",
    "BMW.info()"
   ]
  },
  {
   "cell_type": "markdown",
   "metadata": {},
   "source": [
    "The dataset contains 3 categorical features, 3 ordinal features encoded as integers, 1 continuous numerical feature and 1 continuous numerical target variable.\n",
    "\n",
    "The data types are corrected and now, starting with general statistics, features can be explored."
   ]
  },
  {
   "cell_type": "code",
   "execution_count": 4,
   "metadata": {},
   "outputs": [
    {
     "data": {
      "text/html": [
       "<div>\n",
       "<style scoped>\n",
       "    .dataframe tbody tr th:only-of-type {\n",
       "        vertical-align: middle;\n",
       "    }\n",
       "\n",
       "    .dataframe tbody tr th {\n",
       "        vertical-align: top;\n",
       "    }\n",
       "\n",
       "    .dataframe thead th {\n",
       "        text-align: right;\n",
       "    }\n",
       "</style>\n",
       "<table border=\"1\" class=\"dataframe\">\n",
       "  <thead>\n",
       "    <tr style=\"text-align: right;\">\n",
       "      <th></th>\n",
       "      <th>year</th>\n",
       "      <th>price</th>\n",
       "      <th>mileage</th>\n",
       "      <th>tax</th>\n",
       "      <th>mpg</th>\n",
       "      <th>engineSize</th>\n",
       "    </tr>\n",
       "  </thead>\n",
       "  <tbody>\n",
       "    <tr>\n",
       "      <th>count</th>\n",
       "      <td>10781.000000</td>\n",
       "      <td>10781.000000</td>\n",
       "      <td>10781.000000</td>\n",
       "      <td>10781.000000</td>\n",
       "      <td>10781.000000</td>\n",
       "      <td>10781.000000</td>\n",
       "    </tr>\n",
       "    <tr>\n",
       "      <th>mean</th>\n",
       "      <td>2017.078935</td>\n",
       "      <td>22733.408867</td>\n",
       "      <td>25496.986550</td>\n",
       "      <td>131.702068</td>\n",
       "      <td>55.896299</td>\n",
       "      <td>2.167767</td>\n",
       "    </tr>\n",
       "    <tr>\n",
       "      <th>std</th>\n",
       "      <td>2.349038</td>\n",
       "      <td>11415.528189</td>\n",
       "      <td>25143.192559</td>\n",
       "      <td>61.510755</td>\n",
       "      <td>31.313849</td>\n",
       "      <td>0.552054</td>\n",
       "    </tr>\n",
       "    <tr>\n",
       "      <th>min</th>\n",
       "      <td>1996.000000</td>\n",
       "      <td>1200.000000</td>\n",
       "      <td>1.000000</td>\n",
       "      <td>0.000000</td>\n",
       "      <td>5.000000</td>\n",
       "      <td>0.000000</td>\n",
       "    </tr>\n",
       "    <tr>\n",
       "      <th>25%</th>\n",
       "      <td>2016.000000</td>\n",
       "      <td>14950.000000</td>\n",
       "      <td>5529.000000</td>\n",
       "      <td>135.000000</td>\n",
       "      <td>45.000000</td>\n",
       "      <td>2.000000</td>\n",
       "    </tr>\n",
       "    <tr>\n",
       "      <th>50%</th>\n",
       "      <td>2017.000000</td>\n",
       "      <td>20462.000000</td>\n",
       "      <td>18347.000000</td>\n",
       "      <td>145.000000</td>\n",
       "      <td>53.000000</td>\n",
       "      <td>2.000000</td>\n",
       "    </tr>\n",
       "    <tr>\n",
       "      <th>75%</th>\n",
       "      <td>2019.000000</td>\n",
       "      <td>27940.000000</td>\n",
       "      <td>38206.000000</td>\n",
       "      <td>145.000000</td>\n",
       "      <td>62.000000</td>\n",
       "      <td>2.000000</td>\n",
       "    </tr>\n",
       "    <tr>\n",
       "      <th>max</th>\n",
       "      <td>2020.000000</td>\n",
       "      <td>123456.000000</td>\n",
       "      <td>214000.000000</td>\n",
       "      <td>580.000000</td>\n",
       "      <td>470.000000</td>\n",
       "      <td>6.600000</td>\n",
       "    </tr>\n",
       "  </tbody>\n",
       "</table>\n",
       "</div>"
      ],
      "text/plain": [
       "               year          price        mileage           tax           mpg  \\\n",
       "count  10781.000000   10781.000000   10781.000000  10781.000000  10781.000000   \n",
       "mean    2017.078935   22733.408867   25496.986550    131.702068     55.896299   \n",
       "std        2.349038   11415.528189   25143.192559     61.510755     31.313849   \n",
       "min     1996.000000    1200.000000       1.000000      0.000000      5.000000   \n",
       "25%     2016.000000   14950.000000    5529.000000    135.000000     45.000000   \n",
       "50%     2017.000000   20462.000000   18347.000000    145.000000     53.000000   \n",
       "75%     2019.000000   27940.000000   38206.000000    145.000000     62.000000   \n",
       "max     2020.000000  123456.000000  214000.000000    580.000000    470.000000   \n",
       "\n",
       "         engineSize  \n",
       "count  10781.000000  \n",
       "mean       2.167767  \n",
       "std        0.552054  \n",
       "min        0.000000  \n",
       "25%        2.000000  \n",
       "50%        2.000000  \n",
       "75%        2.000000  \n",
       "max        6.600000  "
      ]
     },
     "execution_count": 4,
     "metadata": {},
     "output_type": "execute_result"
    }
   ],
   "source": [
    "BMW.describe()"
   ]
  },
  {
   "cell_type": "markdown",
   "metadata": {},
   "source": [
    "The summary statistics indicates that there are outliers in the data with wide ranges and relatively low standard deviations. Having a large dataset, eliminating these outliers wouldn't affect the analysis."
   ]
  },
  {
   "cell_type": "markdown",
   "metadata": {},
   "source": [
    "**price - Sales price of the automobile**"
   ]
  },
  {
   "cell_type": "code",
   "execution_count": 5,
   "metadata": {
    "scrolled": true
   },
   "outputs": [
    {
     "data": {
      "image/png": "[encoded data removed]",
      "text/plain": [
       "<Figure size 432x288 with 1 Axes>"
      ]
     },
     "metadata": {},
     "output_type": "display_data"
    }
   ],
   "source": [
    "sns.histplot(x = 'price', data = BMW).set_title('Distribution of Price', size = 16)\n",
    "plt.show()"
   ]
  },
  {
   "cell_type": "markdown",
   "metadata": {},
   "source": [
    "The distribution of price is, as it can be seen on the histogram above, right skewed. This may indicate that there are outliers with too the high prices. A box plot would be helpful to detect those outliers."
   ]
  },
  {
   "cell_type": "code",
   "execution_count": 6,
   "metadata": {
    "scrolled": true
   },
   "outputs": [
    {
     "data": {
      "image/png": "[encoded data removed]",
      "text/plain": [
       "<Figure size 432x288 with 1 Axes>"
      ]
     },
     "metadata": {},
     "output_type": "display_data"
    }
   ],
   "source": [
    "sns.boxplot(x = 'price', data = BMW).set_title('Distribution of Price', size = 16)\n",
    "plt.show()"
   ]
  },
  {
   "cell_type": "markdown",
   "metadata": {},
   "source": [
    "From the boxplot above, it is seen that there are outliers with too high prices in the dataset. The outliers and the dataset without outliers should be inspected to make sure that no feature is underrepresented in the dataset without outliers. "
   ]
  },
  {
   "cell_type": "code",
   "execution_count": 7,
   "metadata": {
    "scrolled": false
   },
   "outputs": [
    {
     "name": "stdout",
     "output_type": "stream",
     "text": [
      "model\n",
      " 1 Series      0\n",
      " 2 Series      1\n",
      " 3 Series      4\n",
      " 4 Series      3\n",
      " 5 Series      1\n",
      " 6 Series      1\n",
      " 7 Series     38\n",
      " 8 Series     39\n",
      " M2            4\n",
      " M3            2\n",
      " M4           39\n",
      " M5           21\n",
      " M6            0\n",
      " X1            0\n",
      " X2            0\n",
      " X3           28\n",
      " X4            8\n",
      " X5          178\n",
      " X6           48\n",
      " X7           55\n",
      " Z3            0\n",
      " Z4            1\n",
      " i3            0\n",
      " i8           13\n",
      "Name: price, dtype: int64\n"
     ]
    },
    {
     "data": {
      "text/html": [
       "<div>\n",
       "<style scoped>\n",
       "    .dataframe tbody tr th:only-of-type {\n",
       "        vertical-align: middle;\n",
       "    }\n",
       "\n",
       "    .dataframe tbody tr th {\n",
       "        vertical-align: top;\n",
       "    }\n",
       "\n",
       "    .dataframe thead th {\n",
       "        text-align: right;\n",
       "    }\n",
       "</style>\n",
       "<table border=\"1\" class=\"dataframe\">\n",
       "  <thead>\n",
       "    <tr style=\"text-align: right;\">\n",
       "      <th></th>\n",
       "      <th>year</th>\n",
       "      <th>price</th>\n",
       "      <th>mileage</th>\n",
       "      <th>tax</th>\n",
       "      <th>mpg</th>\n",
       "      <th>engineSize</th>\n",
       "    </tr>\n",
       "  </thead>\n",
       "  <tbody>\n",
       "    <tr>\n",
       "      <th>count</th>\n",
       "      <td>484.000000</td>\n",
       "      <td>484.000000</td>\n",
       "      <td>484.000000</td>\n",
       "      <td>484.000000</td>\n",
       "      <td>484.000000</td>\n",
       "      <td>484.000000</td>\n",
       "    </tr>\n",
       "    <tr>\n",
       "      <th>mean</th>\n",
       "      <td>2019.103306</td>\n",
       "      <td>57522.811983</td>\n",
       "      <td>4634.159091</td>\n",
       "      <td>145.020661</td>\n",
       "      <td>37.902893</td>\n",
       "      <td>3.049380</td>\n",
       "    </tr>\n",
       "    <tr>\n",
       "      <th>std</th>\n",
       "      <td>0.644831</td>\n",
       "      <td>9283.538131</td>\n",
       "      <td>4463.625969</td>\n",
       "      <td>16.622081</td>\n",
       "      <td>23.962118</td>\n",
       "      <td>0.516137</td>\n",
       "    </tr>\n",
       "    <tr>\n",
       "      <th>min</th>\n",
       "      <td>2015.000000</td>\n",
       "      <td>47440.000000</td>\n",
       "      <td>3.000000</td>\n",
       "      <td>0.000000</td>\n",
       "      <td>5.000000</td>\n",
       "      <td>1.500000</td>\n",
       "    </tr>\n",
       "    <tr>\n",
       "      <th>25%</th>\n",
       "      <td>2019.000000</td>\n",
       "      <td>49999.750000</td>\n",
       "      <td>1427.500000</td>\n",
       "      <td>145.000000</td>\n",
       "      <td>31.000000</td>\n",
       "      <td>3.000000</td>\n",
       "    </tr>\n",
       "    <tr>\n",
       "      <th>50%</th>\n",
       "      <td>2019.000000</td>\n",
       "      <td>54990.000000</td>\n",
       "      <td>4000.000000</td>\n",
       "      <td>145.000000</td>\n",
       "      <td>34.000000</td>\n",
       "      <td>3.000000</td>\n",
       "    </tr>\n",
       "    <tr>\n",
       "      <th>75%</th>\n",
       "      <td>2019.000000</td>\n",
       "      <td>62992.000000</td>\n",
       "      <td>6501.500000</td>\n",
       "      <td>145.000000</td>\n",
       "      <td>37.000000</td>\n",
       "      <td>3.000000</td>\n",
       "    </tr>\n",
       "    <tr>\n",
       "      <th>max</th>\n",
       "      <td>2020.000000</td>\n",
       "      <td>123456.000000</td>\n",
       "      <td>36127.000000</td>\n",
       "      <td>300.000000</td>\n",
       "      <td>188.000000</td>\n",
       "      <td>6.600000</td>\n",
       "    </tr>\n",
       "  </tbody>\n",
       "</table>\n",
       "</div>"
      ],
      "text/plain": [
       "              year          price       mileage         tax         mpg  \\\n",
       "count   484.000000     484.000000    484.000000  484.000000  484.000000   \n",
       "mean   2019.103306   57522.811983   4634.159091  145.020661   37.902893   \n",
       "std       0.644831    9283.538131   4463.625969   16.622081   23.962118   \n",
       "min    2015.000000   47440.000000      3.000000    0.000000    5.000000   \n",
       "25%    2019.000000   49999.750000   1427.500000  145.000000   31.000000   \n",
       "50%    2019.000000   54990.000000   4000.000000  145.000000   34.000000   \n",
       "75%    2019.000000   62992.000000   6501.500000  145.000000   37.000000   \n",
       "max    2020.000000  123456.000000  36127.000000  300.000000  188.000000   \n",
       "\n",
       "       engineSize  \n",
       "count  484.000000  \n",
       "mean     3.049380  \n",
       "std      0.516137  \n",
       "min      1.500000  \n",
       "25%      3.000000  \n",
       "50%      3.000000  \n",
       "75%      3.000000  \n",
       "max      6.600000  "
      ]
     },
     "execution_count": 7,
     "metadata": {},
     "output_type": "execute_result"
    }
   ],
   "source": [
    "from scipy import stats\n",
    "\n",
    "price_iqr = stats.iqr(BMW.price)\n",
    "\n",
    "price_outliers = BMW[BMW.price > BMW.price.describe()[\"75%\"] + price_iqr * 1.5]\n",
    "\n",
    "print(price_outliers.groupby(\"model\").count()[\"price\"])\n",
    "price_outliers.describe()"
   ]
  },
  {
   "cell_type": "code",
   "execution_count": 8,
   "metadata": {
    "scrolled": false
   },
   "outputs": [
    {
     "data": {
      "text/plain": [
       "model\n",
       " 1 Series    1969\n",
       " 2 Series    1228\n",
       " 3 Series    2439\n",
       " 4 Series     992\n",
       " 5 Series    1055\n",
       " 6 Series     107\n",
       " 7 Series      68\n",
       " 8 Series       0\n",
       " M2            17\n",
       " M3            25\n",
       " M4            86\n",
       " M5             8\n",
       " M6             8\n",
       " X1           804\n",
       " X2           288\n",
       " X3           523\n",
       " X4           171\n",
       " X5           290\n",
       " X6            58\n",
       " X7             0\n",
       " Z3             7\n",
       " Z4           107\n",
       " i3            43\n",
       " i8             4\n",
       "Name: price, dtype: int64"
      ]
     },
     "execution_count": 8,
     "metadata": {},
     "output_type": "execute_result"
    }
   ],
   "source": [
    "BMW_wo_outliers = BMW[~BMW.isin(price_outliers)]\n",
    "\n",
    "BMW_wo_outliers.groupby(\"model\").count()[\"price\"]"
   ]
  },
  {
   "cell_type": "markdown",
   "metadata": {},
   "source": [
    "Inspecting the feature \"model\", it is seen that some high-end models such as i8, X7, 8 Series, 7 Series and M5 are underrepresented in the dataset without outliers. So, instead of directly eliminating the outliers in all dataset, eliminating the outliers in each model type would be a better approach. In other words, the outliers in the feature \"price\" should be handled in a multivariate approach."
   ]
  },
  {
   "cell_type": "code",
   "execution_count": 9,
   "metadata": {
    "scrolled": false
   },
   "outputs": [
    {
     "name": "stdout",
     "output_type": "stream",
     "text": [
      "Number of Outliers Eliminated:  70\n"
     ]
    },
    {
     "data": {
      "text/plain": [
       "model\n",
       " 1 Series    1949\n",
       " 2 Series    1217\n",
       " 3 Series    2437\n",
       " 4 Series     988\n",
       " 5 Series    1055\n",
       " 6 Series     107\n",
       " 7 Series     106\n",
       " 8 Series      37\n",
       " M2            19\n",
       " M3            27\n",
       " M4           122\n",
       " M5            29\n",
       " M6             7\n",
       " X1           802\n",
       " X2           279\n",
       " X3           548\n",
       " X4           179\n",
       " X5           468\n",
       " X6           106\n",
       " X7            55\n",
       " Z3             6\n",
       " Z4           108\n",
       " i3            43\n",
       " i8            17\n",
       "Name: price, dtype: int64"
      ]
     },
     "execution_count": 9,
     "metadata": {},
     "output_type": "execute_result"
    }
   ],
   "source": [
    "unique_models = BMW.model.unique()\n",
    "\n",
    "price_outliers = pd.DataFrame(columns = BMW.columns)\n",
    "\n",
    "for model in unique_models:\n",
    "    model_df = BMW[BMW.model == model]\n",
    "    model_price_iqr = stats.iqr(model_df.price.to_numpy())\n",
    "    model_df_outliers = \\\n",
    "        model_df[(model_df.price > model_df.price.describe()[\"75%\"] + model_price_iqr * 1.5) | \\\n",
    "        (model_df.price < model_df.price.describe()[\"25%\"] - model_price_iqr * 1.5)]\n",
    "    price_outliers = price_outliers.append(model_df_outliers)\n",
    "\n",
    "BMW_v2 = BMW[~BMW.isin(price_outliers)]\n",
    "\n",
    "print(\"Number of Outliers Eliminated: \", len(price_outliers))\n",
    "BMW_v2.groupby(\"model\").count()[\"price\"]"
   ]
  },
  {
   "cell_type": "markdown",
   "metadata": {},
   "source": [
    "After eliminating outliers according to \"model\" variable, we can continue investigating relationships of other feature variables."
   ]
  },
  {
   "cell_type": "code",
   "execution_count": 10,
   "metadata": {
    "scrolled": false
   },
   "outputs": [
    {
     "data": {
      "image/png": "[encoded data removed]",
      "text/plain": [
       "<Figure size 432x288 with 1 Axes>"
      ]
     },
     "metadata": {},
     "output_type": "display_data"
    },
    {
     "data": {
      "image/png": "[encoded data removed]",
      "text/plain": [
       "<Figure size 432x288 with 1 Axes>"
      ]
     },
     "metadata": {},
     "output_type": "display_data"
    },
    {
     "data": {
      "image/png": "[encoded data removed]",
      "text/plain": [
       "<Figure size 432x288 with 1 Axes>"
      ]
     },
     "metadata": {},
     "output_type": "display_data"
    },
    {
     "data": {
      "image/png": "[encoded data removed]",
      "text/plain": [
       "<Figure size 432x288 with 1 Axes>"
      ]
     },
     "metadata": {},
     "output_type": "display_data"
    },
    {
     "data": {
      "image/png": "[encoded data removed]",
      "text/plain": [
       "<Figure size 432x288 with 1 Axes>"
      ]
     },
     "metadata": {},
     "output_type": "display_data"
    }
   ],
   "source": [
    "features = ['model', 'year', 'transmission', 'tax', 'engineSize']\n",
    "\n",
    "for feature in features:\n",
    "    sns.boxplot(x = feature, y = 'price', data = BMW_v2, orient = 'v')\\\n",
    "    .set_title(feature + \" vs price\", size = 16)\n",
    "    plt.xticks(rotation = 90)\n",
    "    plt.show()"
   ]
  },
  {
   "cell_type": "markdown",
   "metadata": {},
   "source": [
    "From the boxplots above, it is seen that \"model\", \"year\" and \"transmission\" features correlates with the price.\n",
    "\n",
    "A scatterplot should be used to investigate the relationship between the feature \"mpg\" and the target variable \"price\"."
   ]
  },
  {
   "cell_type": "code",
   "execution_count": 11,
   "metadata": {},
   "outputs": [
    {
     "data": {
      "image/png": "[encoded data removed]",
      "text/plain": [
       "<Figure size 432x288 with 1 Axes>"
      ]
     },
     "metadata": {},
     "output_type": "display_data"
    }
   ],
   "source": [
    "sns.regplot(data = BMW_v2, x = 'mpg', y = 'price')\\\n",
    "    .set_title(\"mpg vs price\", size = 16)\n",
    "plt.show()"
   ]
  },
  {
   "cell_type": "markdown",
   "metadata": {},
   "source": [
    "As it is seen from the regression plot above, correlation between mpg and price is rather weak.\n",
    "\n",
    "Pearson correlation coefficients could be generated to inspect the correlation between of each feature with price.\n",
    "\n",
    "Also correlation matrix and a heatmap would be beneficial to visualize the correlations between the features"
   ]
  },
  {
   "cell_type": "code",
   "execution_count": 12,
   "metadata": {
    "scrolled": false
   },
   "outputs": [
    {
     "name": "stdout",
     "output_type": "stream",
     "text": [
      " Pearson Correlation Coefficients of Features with Price\n",
      " year          0.630547\n",
      "price         1.000000\n",
      "mileage      -0.608819\n",
      "tax           0.266654\n",
      "mpg          -0.203221\n",
      "engineSize    0.463104\n",
      "Name: price, dtype: float64\n"
     ]
    },
    {
     "data": {
      "image/png": "[encoded data removed]",
      "text/plain": [
       "<Figure size 432x288 with 2 Axes>"
      ]
     },
     "metadata": {},
     "output_type": "display_data"
    }
   ],
   "source": [
    "print(\" Pearson Correlation Coefficients of Features with Price\\n\",\\\n",
    "      BMW_v2.corr().price)\n",
    "\n",
    "\n",
    "sns.heatmap(data = BMW_v2.corr(), annot = True, cmap = \"RdBu\") \\\n",
    "    .set_title(\"Heatmap of Pearson Correlation Coefficients\", size = 16)\n",
    "plt.show()"
   ]
  },
  {
   "cell_type": "markdown",
   "metadata": {},
   "source": [
    "The price is positively correlated with model year and engine size of the automobile. The relationship between year and price can be explained as people tend to pay more to newer vehicles since they are more modern and less likely to fail in general. Engine size is another feature that is positively correlated with price that is significant enough to mention. Engine size is directly related with performance and paying more for a greater engine size is understandable.\n",
    "\n",
    "Negative correlation between mileage and price is also explainable as a car with higher mileage is older. This can be understood from the significant negative correlation between year and mileage features. Older a vehicle, more mileage it has.\n",
    "\n",
    "Road tax and fuel consumption does not seem to have a significant correlation with price, even though a negative correlation would be expected."
   ]
  },
  {
   "cell_type": "markdown",
   "metadata": {},
   "source": [
    "**year - Model year of the automobile**"
   ]
  },
  {
   "cell_type": "code",
   "execution_count": 18,
   "metadata": {},
   "outputs": [
    {
     "data": {
      "image/png": "[encoded data removed]",
      "text/plain": [
       "<Figure size 432x288 with 1 Axes>"
      ]
     },
     "metadata": {},
     "output_type": "display_data"
    }
   ],
   "source": [
    "sns.lineplot(data = BMW_v2.year.value_counts().sort_index()).set_title('Value counts for each year in the dataset', size = 16)\n",
    "plt.show()"
   ]
  },
  {
   "cell_type": "markdown",
   "metadata": {},
   "source": [
    "In the dataset, older cars are underrepresented. Vehicles manufactured before 2012 could be considered as outliers and eliminated from the dataset."
   ]
  },
  {
   "cell_type": "code",
   "execution_count": 14,
   "metadata": {},
   "outputs": [
    {
     "data": {
      "text/html": [
       "<div>\n",
       "<style scoped>\n",
       "    .dataframe tbody tr th:only-of-type {\n",
       "        vertical-align: middle;\n",
       "    }\n",
       "\n",
       "    .dataframe tbody tr th {\n",
       "        vertical-align: top;\n",
       "    }\n",
       "\n",
       "    .dataframe thead th {\n",
       "        text-align: right;\n",
       "    }\n",
       "</style>\n",
       "<table border=\"1\" class=\"dataframe\">\n",
       "  <thead>\n",
       "    <tr style=\"text-align: right;\">\n",
       "      <th></th>\n",
       "      <th>year</th>\n",
       "      <th>price</th>\n",
       "      <th>mileage</th>\n",
       "      <th>tax</th>\n",
       "      <th>mpg</th>\n",
       "      <th>engineSize</th>\n",
       "    </tr>\n",
       "  </thead>\n",
       "  <tbody>\n",
       "    <tr>\n",
       "      <th>count</th>\n",
       "      <td>10500.000000</td>\n",
       "      <td>10500.000000</td>\n",
       "      <td>10500.000000</td>\n",
       "      <td>10500.000000</td>\n",
       "      <td>10500.000000</td>\n",
       "      <td>10500.000000</td>\n",
       "    </tr>\n",
       "    <tr>\n",
       "      <th>mean</th>\n",
       "      <td>2017.248190</td>\n",
       "      <td>22908.479333</td>\n",
       "      <td>24437.584000</td>\n",
       "      <td>129.543810</td>\n",
       "      <td>56.252762</td>\n",
       "      <td>2.162210</td>\n",
       "    </tr>\n",
       "    <tr>\n",
       "      <th>std</th>\n",
       "      <td>1.928506</td>\n",
       "      <td>11097.690768</td>\n",
       "      <td>23591.749611</td>\n",
       "      <td>57.956571</td>\n",
       "      <td>31.598492</td>\n",
       "      <td>0.549199</td>\n",
       "    </tr>\n",
       "    <tr>\n",
       "      <th>min</th>\n",
       "      <td>2012.000000</td>\n",
       "      <td>3076.000000</td>\n",
       "      <td>1.000000</td>\n",
       "      <td>0.000000</td>\n",
       "      <td>5.000000</td>\n",
       "      <td>0.000000</td>\n",
       "    </tr>\n",
       "    <tr>\n",
       "      <th>25%</th>\n",
       "      <td>2016.000000</td>\n",
       "      <td>15000.000000</td>\n",
       "      <td>5500.750000</td>\n",
       "      <td>125.000000</td>\n",
       "      <td>46.000000</td>\n",
       "      <td>2.000000</td>\n",
       "    </tr>\n",
       "    <tr>\n",
       "      <th>50%</th>\n",
       "      <td>2017.000000</td>\n",
       "      <td>20590.000000</td>\n",
       "      <td>17882.000000</td>\n",
       "      <td>145.000000</td>\n",
       "      <td>53.000000</td>\n",
       "      <td>2.000000</td>\n",
       "    </tr>\n",
       "    <tr>\n",
       "      <th>75%</th>\n",
       "      <td>2019.000000</td>\n",
       "      <td>27950.000000</td>\n",
       "      <td>36930.000000</td>\n",
       "      <td>145.000000</td>\n",
       "      <td>62.000000</td>\n",
       "      <td>2.000000</td>\n",
       "    </tr>\n",
       "    <tr>\n",
       "      <th>max</th>\n",
       "      <td>2020.000000</td>\n",
       "      <td>89900.000000</td>\n",
       "      <td>214000.000000</td>\n",
       "      <td>570.000000</td>\n",
       "      <td>470.000000</td>\n",
       "      <td>6.600000</td>\n",
       "    </tr>\n",
       "  </tbody>\n",
       "</table>\n",
       "</div>"
      ],
      "text/plain": [
       "               year         price        mileage           tax           mpg  \\\n",
       "count  10500.000000  10500.000000   10500.000000  10500.000000  10500.000000   \n",
       "mean    2017.248190  22908.479333   24437.584000    129.543810     56.252762   \n",
       "std        1.928506  11097.690768   23591.749611     57.956571     31.598492   \n",
       "min     2012.000000   3076.000000       1.000000      0.000000      5.000000   \n",
       "25%     2016.000000  15000.000000    5500.750000    125.000000     46.000000   \n",
       "50%     2017.000000  20590.000000   17882.000000    145.000000     53.000000   \n",
       "75%     2019.000000  27950.000000   36930.000000    145.000000     62.000000   \n",
       "max     2020.000000  89900.000000  214000.000000    570.000000    470.000000   \n",
       "\n",
       "         engineSize  \n",
       "count  10500.000000  \n",
       "mean       2.162210  \n",
       "std        0.549199  \n",
       "min        0.000000  \n",
       "25%        2.000000  \n",
       "50%        2.000000  \n",
       "75%        2.000000  \n",
       "max        6.600000  "
      ]
     },
     "metadata": {},
     "output_type": "display_data"
    },
    {
     "name": "stdout",
     "output_type": "stream",
     "text": [
      "Size of the new version of the dataset:  10500\n"
     ]
    }
   ],
   "source": [
    "BMW_v3 = BMW_v2[BMW_v2.year >= 2012]\n",
    "\n",
    "display(BMW_v3.describe())\n",
    "print(\"Size of the new version of the dataset: \", BMW_v3.shape[0])"
   ]
  },
  {
   "cell_type": "markdown",
   "metadata": {},
   "source": [
    "**mileage - The distance the automobile has traveled in miles**"
   ]
  },
  {
   "cell_type": "code",
   "execution_count": 20,
   "metadata": {
    "scrolled": false
   },
   "outputs": [
    {
     "data": {
      "image/png": "[encoded data removed]",
      "text/plain": [
       "<Figure size 432x288 with 1 Axes>"
      ]
     },
     "metadata": {},
     "output_type": "display_data"
    },
    {
     "data": {
      "image/png": "[encoded data removed]",
      "text/plain": [
       "<Figure size 432x288 with 1 Axes>"
      ]
     },
     "metadata": {},
     "output_type": "display_data"
    },
    {
     "data": {
      "text/plain": [
       "count     10500.000000\n",
       "mean      24437.584000\n",
       "std       23591.749611\n",
       "min           1.000000\n",
       "25%        5500.750000\n",
       "50%       17882.000000\n",
       "75%       36930.000000\n",
       "max      214000.000000\n",
       "Name: mileage, dtype: float64"
      ]
     },
     "execution_count": 20,
     "metadata": {},
     "output_type": "execute_result"
    }
   ],
   "source": [
    "sns.histplot(x = BMW_v3.mileage).set_title(\"Histogram of Mileage\", size = 16)\n",
    "plt.show()\n",
    "sns.boxplot(x = BMW_v3.mileage).set_title(\"Boxplot of Mileage\", size = 16)\n",
    "plt.show()\n",
    "BMW_v3.mileage.describe()"
   ]
  },
  {
   "cell_type": "markdown",
   "metadata": {},
   "source": [
    "The histogram and boxplot above implies that there are outliers with very high mileage. As mileage is directly correlated with age of the car and price, we should also handle these outliers with a multivariate approach."
   ]
  },
  {
   "cell_type": "code",
   "execution_count": 16,
   "metadata": {},
   "outputs": [
    {
     "data": {
      "image/png": "[encoded data removed]",
      "text/plain": [
       "<Figure size 432x288 with 1 Axes>"
      ]
     },
     "metadata": {},
     "output_type": "display_data"
    }
   ],
   "source": [
    "sns.regplot(x = 'year', y = 'mileage' , data = BMW_v3)\\\n",
    "    .set_title(\"Model Year vs. Mileage\", size = 16)\n",
    "plt.show()"
   ]
  },
  {
   "cell_type": "code",
   "execution_count": 17,
   "metadata": {
    "scrolled": false
   },
   "outputs": [
    {
     "name": "stdout",
     "output_type": "stream",
     "text": [
      "Number of Outliers Eliminated:  351\n",
      "year\n",
      "2012.0     114\n",
      "2013.0     355\n",
      "2014.0     489\n",
      "2015.0     901\n",
      "2016.0    1799\n",
      "2017.0    1633\n",
      "2018.0     825\n",
      "2019.0    3389\n",
      "2020.0     644\n",
      "Name: mileage, dtype: int64\n"
     ]
    },
    {
     "data": {
      "image/png": "[encoded data removed]",
      "text/plain": [
       "<Figure size 432x288 with 1 Axes>"
      ]
     },
     "metadata": {},
     "output_type": "display_data"
    }
   ],
   "source": [
    "unique_years = BMW_v3.year.unique()\n",
    "mileage_outliers = pd.DataFrame(columns = BMW_v3.columns)\n",
    "\n",
    "for year in unique_years:\n",
    "    year_df = BMW_v3[BMW_v3.year == year]\n",
    "    year_mileage_iqr = stats.iqr(year_df.mileage.to_numpy())\n",
    "    year_df_outliers = \\\n",
    "        year_df[(year_df.mileage > year_df.mileage.describe()[\"75%\"] + year_mileage_iqr * 1.5) | \\\n",
    "        (year_df.mileage < year_df.mileage.describe()[\"25%\"] - year_mileage_iqr * 1.5)]\n",
    "    mileage_outliers = mileage_outliers.append(year_df_outliers)\n",
    "\n",
    "BMW_v4 = BMW_v3[~BMW_v3.isin(mileage_outliers)].dropna()\n",
    "\n",
    "print(\"Number of Outliers Eliminated: \", len(mileage_outliers))\n",
    "print(BMW_v4.groupby(\"year\").count()[\"mileage\"])\n",
    "sns.boxplot(x = 'year', y = 'mileage' , data = BMW_v4)\\\n",
    "    .set_title(\"Model Year vs. Mileage\", size = 16)\n",
    "plt.show()"
   ]
  },
  {
   "cell_type": "markdown",
   "metadata": {},
   "source": [
    "Although there are still outliers in mileage according to year feature, they are not significant and can be kept in the dataset."
   ]
  },
  {
   "cell_type": "markdown",
   "metadata": {},
   "source": [
    "The features **\"tax\"** and **\"mpg\"** are not significantly correlated with any other feature and can be investigated in a univariate manner."
   ]
  },
  {
   "cell_type": "code",
   "execution_count": 18,
   "metadata": {},
   "outputs": [
    {
     "data": {
      "text/html": [
       "<div>\n",
       "<style scoped>\n",
       "    .dataframe tbody tr th:only-of-type {\n",
       "        vertical-align: middle;\n",
       "    }\n",
       "\n",
       "    .dataframe tbody tr th {\n",
       "        vertical-align: top;\n",
       "    }\n",
       "\n",
       "    .dataframe thead th {\n",
       "        text-align: right;\n",
       "    }\n",
       "</style>\n",
       "<table border=\"1\" class=\"dataframe\">\n",
       "  <thead>\n",
       "    <tr style=\"text-align: right;\">\n",
       "      <th></th>\n",
       "      <th>tax</th>\n",
       "      <th>mpg</th>\n",
       "    </tr>\n",
       "  </thead>\n",
       "  <tbody>\n",
       "    <tr>\n",
       "      <th>count</th>\n",
       "      <td>10149.000000</td>\n",
       "      <td>10149.000000</td>\n",
       "    </tr>\n",
       "    <tr>\n",
       "      <th>mean</th>\n",
       "      <td>130.155188</td>\n",
       "      <td>56.124347</td>\n",
       "    </tr>\n",
       "    <tr>\n",
       "      <th>std</th>\n",
       "      <td>57.804293</td>\n",
       "      <td>31.854627</td>\n",
       "    </tr>\n",
       "    <tr>\n",
       "      <th>min</th>\n",
       "      <td>0.000000</td>\n",
       "      <td>5.000000</td>\n",
       "    </tr>\n",
       "    <tr>\n",
       "      <th>25%</th>\n",
       "      <td>135.000000</td>\n",
       "      <td>46.000000</td>\n",
       "    </tr>\n",
       "    <tr>\n",
       "      <th>50%</th>\n",
       "      <td>145.000000</td>\n",
       "      <td>53.000000</td>\n",
       "    </tr>\n",
       "    <tr>\n",
       "      <th>75%</th>\n",
       "      <td>145.000000</td>\n",
       "      <td>62.000000</td>\n",
       "    </tr>\n",
       "    <tr>\n",
       "      <th>max</th>\n",
       "      <td>570.000000</td>\n",
       "      <td>470.000000</td>\n",
       "    </tr>\n",
       "  </tbody>\n",
       "</table>\n",
       "</div>"
      ],
      "text/plain": [
       "                tax           mpg\n",
       "count  10149.000000  10149.000000\n",
       "mean     130.155188     56.124347\n",
       "std       57.804293     31.854627\n",
       "min        0.000000      5.000000\n",
       "25%      135.000000     46.000000\n",
       "50%      145.000000     53.000000\n",
       "75%      145.000000     62.000000\n",
       "max      570.000000    470.000000"
      ]
     },
     "execution_count": 18,
     "metadata": {},
     "output_type": "execute_result"
    }
   ],
   "source": [
    "BMW_v4.describe()[[\"tax\", \"mpg\"]]"
   ]
  },
  {
   "cell_type": "markdown",
   "metadata": {},
   "source": [
    "Minimum and maximum of both variables implies outliers. Especially \"tax\" having a mean below 25th percentile, these outliers should be investigated."
   ]
  },
  {
   "cell_type": "markdown",
   "metadata": {},
   "source": [
    "**tax - Road tax of the automobile**"
   ]
  },
  {
   "cell_type": "code",
   "execution_count": 19,
   "metadata": {},
   "outputs": [
    {
     "data": {
      "image/png": "[encoded data removed]",
      "text/plain": [
       "<Figure size 432x288 with 1 Axes>"
      ]
     },
     "metadata": {},
     "output_type": "display_data"
    }
   ],
   "source": [
    "sns.boxplot(x = \"tax\", data = BMW_v4 )\\\n",
    "    .set_title(\"Tax Boxplot\", size = 16)\n",
    "plt.show()"
   ]
  },
  {
   "cell_type": "markdown",
   "metadata": {},
   "source": [
    "The boxplot above points out the existence of outliers in “tax” feature. Those points should be investigated."
   ]
  },
  {
   "cell_type": "code",
   "execution_count": 20,
   "metadata": {},
   "outputs": [
    {
     "data": {
      "text/plain": [
       "model           2460\n",
       "year            2460\n",
       "price           2460\n",
       "transmission    2460\n",
       "mileage         2460\n",
       "fuelType        2460\n",
       "tax             2460\n",
       "mpg             2460\n",
       "engineSize      2460\n",
       "dtype: int64"
      ]
     },
     "execution_count": 20,
     "metadata": {},
     "output_type": "execute_result"
    }
   ],
   "source": [
    "tax_iqr = stats.iqr(BMW_v4.tax.to_numpy())\n",
    "\n",
    "tax_outliers = BMW_v4\\\n",
    "    [(BMW_v4.tax > BMW_v4.tax.describe()['75%'] + tax_iqr * 1.5) |\\\n",
    "      (BMW_v4.tax < BMW_v4.tax.describe()['25%'] - tax_iqr * 1.5)]\n",
    "\n",
    "tax_outliers.count()"
   ]
  },
  {
   "cell_type": "markdown",
   "metadata": {},
   "source": [
    "Although the dataset is large, dropping 2460 entries could affect the analysis. Eliminating only those below 100 and above 500 could be more appropriate."
   ]
  },
  {
   "cell_type": "code",
   "execution_count": 21,
   "metadata": {
    "scrolled": false
   },
   "outputs": [
    {
     "name": "stdout",
     "output_type": "stream",
     "text": [
      "model           1728\n",
      "year            1728\n",
      "price           1728\n",
      "transmission    1728\n",
      "mileage         1728\n",
      "fuelType        1728\n",
      "tax             1728\n",
      "mpg             1728\n",
      "engineSize      1728\n",
      "dtype: int64\n"
     ]
    },
    {
     "data": {
      "image/png": "[encoded data removed]",
      "text/plain": [
       "<Figure size 432x288 with 1 Axes>"
      ]
     },
     "metadata": {},
     "output_type": "display_data"
    }
   ],
   "source": [
    "tax_outliers = BMW_v4\\\n",
    "    [(BMW_v4.tax > 500) |\\\n",
    "      (BMW_v4.tax < 100)]\n",
    "\n",
    "print(tax_outliers.count())\n",
    "sns.boxplot(x = 'tax', data = BMW_v4[~BMW_v4.isin(tax_outliers)])\\\n",
    ".set_title(\"Boxplot of tax without outliers\", size = 16)\n",
    "plt.show()"
   ]
  },
  {
   "cell_type": "markdown",
   "metadata": {},
   "source": [
    "Eliminating the 1728 data points with \"tax\" below 100 or above 500 unfortunately does not show a significant improvement. For this analysis, keeping these data points in the dataset would lead to better results."
   ]
  },
  {
   "cell_type": "markdown",
   "metadata": {},
   "source": [
    "**mpg - Miles per Gallon**  "
   ]
  },
  {
   "cell_type": "code",
   "execution_count": 22,
   "metadata": {},
   "outputs": [
    {
     "data": {
      "image/png": "[encoded data removed]",
      "text/plain": [
       "<Figure size 432x288 with 1 Axes>"
      ]
     },
     "metadata": {},
     "output_type": "display_data"
    }
   ],
   "source": [
    "sns.boxplot(x = \"mpg\", data = BMW_v4 )\\\n",
    "    .set_title(\"Miles Per Gallon Boxplot\", size = 16)\n",
    "plt.show()"
   ]
  },
  {
   "cell_type": "code",
   "execution_count": 23,
   "metadata": {},
   "outputs": [
    {
     "data": {
      "text/plain": [
       "model           254\n",
       "year            254\n",
       "price           254\n",
       "transmission    254\n",
       "mileage         254\n",
       "fuelType        254\n",
       "tax             254\n",
       "mpg             254\n",
       "engineSize      254\n",
       "dtype: int64"
      ]
     },
     "execution_count": 23,
     "metadata": {},
     "output_type": "execute_result"
    }
   ],
   "source": [
    "mpg_iqr = stats.iqr(BMW_v4.mpg.to_numpy())\n",
    "\n",
    "mpg_outliers = BMW_v4\\\n",
    "    [(BMW_v4.mpg > BMW_v4.mpg.describe()['75%'] + mpg_iqr * 1.5) |\\\n",
    "      (BMW_v4.mpg < BMW_v4.mpg.describe()['25%'] - mpg_iqr * 1.5)]\n",
    "\n",
    "mpg_outliers.count()"
   ]
  },
  {
   "cell_type": "code",
   "execution_count": 24,
   "metadata": {},
   "outputs": [
    {
     "data": {
      "image/png": "[encoded data removed]",
      "text/plain": [
       "<Figure size 432x288 with 1 Axes>"
      ]
     },
     "metadata": {},
     "output_type": "display_data"
    }
   ],
   "source": [
    "BMW_v5 = BMW_v4[~BMW_v4.isin(mpg_outliers)]\n",
    "\n",
    "sns.boxplot(x = 'mpg', data = BMW_v5)\\\n",
    "    .set_title(\"Boxplot of mpg\", size = 16)\n",
    "plt.show()"
   ]
  },
  {
   "cell_type": "markdown",
   "metadata": {},
   "source": [
    "Removing only 254 data points resulted in a dataset without outliers in the feature \"mpg\". "
   ]
  },
  {
   "cell_type": "markdown",
   "metadata": {},
   "source": [
    "**engineSize - Engine size of the vehicle**"
   ]
  },
  {
   "cell_type": "code",
   "execution_count": 25,
   "metadata": {
    "scrolled": false
   },
   "outputs": [
    {
     "name": "stdout",
     "output_type": "stream",
     "text": [
      "count    9895.000000\n",
      "mean        2.178413\n",
      "std         0.539074\n",
      "min         0.000000\n",
      "25%         2.000000\n",
      "50%         2.000000\n",
      "75%         2.000000\n",
      "max         6.600000\n",
      "Name: engineSize, dtype: float64\n"
     ]
    },
    {
     "data": {
      "image/png": "[encoded data removed]",
      "text/plain": [
       "<Figure size 432x288 with 2 Axes>"
      ]
     },
     "metadata": {},
     "output_type": "display_data"
    }
   ],
   "source": [
    "print(BMW_v5.engineSize.describe())\n",
    "\n",
    "f, (ax_box, ax_hist) = plt.subplots(2, sharex=True, gridspec_kw={\"height_ratios\": (.30, .85)})\n",
    " \n",
    "sns.boxplot(data = BMW_v5, x = \"engineSize\", ax=ax_box)\n",
    "sns.histplot(data=BMW_v5, x=\"engineSize\", ax=ax_hist)\n",
    "\n",
    "ax_box.set(xlabel='')\n",
    "plt.show()"
   ]
  },
  {
   "cell_type": "markdown",
   "metadata": {},
   "source": [
    "A significant portion of dataset have engine size of 2.0 liters. There seems to be engine sizes below 1.0 liter, however, considering the listings on [Engine Chart on CJPonyParts.com](https://www.cjponyparts.com/resources/engine-size-chart) and [Autobytel](https://www.autobytel.com/car-buying-guides/features/10-cars-with-the-smallest-engines-for-the-highest-epa-grades-129325/), engines smaller than 1 liter are outliers.  "
   ]
  },
  {
   "cell_type": "code",
   "execution_count": 26,
   "metadata": {
    "scrolled": false
   },
   "outputs": [
    {
     "data": {
      "text/html": [
       "<div>\n",
       "<style scoped>\n",
       "    .dataframe tbody tr th:only-of-type {\n",
       "        vertical-align: middle;\n",
       "    }\n",
       "\n",
       "    .dataframe tbody tr th {\n",
       "        vertical-align: top;\n",
       "    }\n",
       "\n",
       "    .dataframe thead th {\n",
       "        text-align: right;\n",
       "    }\n",
       "</style>\n",
       "<table border=\"1\" class=\"dataframe\">\n",
       "  <thead>\n",
       "    <tr style=\"text-align: right;\">\n",
       "      <th></th>\n",
       "      <th>model</th>\n",
       "      <th>year</th>\n",
       "      <th>price</th>\n",
       "      <th>transmission</th>\n",
       "      <th>mileage</th>\n",
       "      <th>fuelType</th>\n",
       "      <th>tax</th>\n",
       "      <th>mpg</th>\n",
       "      <th>engineSize</th>\n",
       "    </tr>\n",
       "  </thead>\n",
       "  <tbody>\n",
       "    <tr>\n",
       "      <th>7422</th>\n",
       "      <td>1 Series</td>\n",
       "      <td>2017.0</td>\n",
       "      <td>12800.0</td>\n",
       "      <td>Manual</td>\n",
       "      <td>18067.0</td>\n",
       "      <td>Petrol</td>\n",
       "      <td>20.0</td>\n",
       "      <td>68.0</td>\n",
       "      <td>0.0</td>\n",
       "    </tr>\n",
       "    <tr>\n",
       "      <th>7452</th>\n",
       "      <td>3 Series</td>\n",
       "      <td>2018.0</td>\n",
       "      <td>18000.0</td>\n",
       "      <td>Automatic</td>\n",
       "      <td>21057.0</td>\n",
       "      <td>Diesel</td>\n",
       "      <td>150.0</td>\n",
       "      <td>64.0</td>\n",
       "      <td>0.0</td>\n",
       "    </tr>\n",
       "    <tr>\n",
       "      <th>8599</th>\n",
       "      <td>1 Series</td>\n",
       "      <td>2017.0</td>\n",
       "      <td>13500.0</td>\n",
       "      <td>Manual</td>\n",
       "      <td>16681.0</td>\n",
       "      <td>Diesel</td>\n",
       "      <td>150.0</td>\n",
       "      <td>68.0</td>\n",
       "      <td>0.0</td>\n",
       "    </tr>\n",
       "    <tr>\n",
       "      <th>8699</th>\n",
       "      <td>1 Series</td>\n",
       "      <td>2017.0</td>\n",
       "      <td>12800.0</td>\n",
       "      <td>Manual</td>\n",
       "      <td>30521.0</td>\n",
       "      <td>Diesel</td>\n",
       "      <td>145.0</td>\n",
       "      <td>68.0</td>\n",
       "      <td>0.0</td>\n",
       "    </tr>\n",
       "    <tr>\n",
       "      <th>8701</th>\n",
       "      <td>3 Series</td>\n",
       "      <td>2018.0</td>\n",
       "      <td>18000.0</td>\n",
       "      <td>Automatic</td>\n",
       "      <td>23611.0</td>\n",
       "      <td>Diesel</td>\n",
       "      <td>150.0</td>\n",
       "      <td>64.0</td>\n",
       "      <td>0.0</td>\n",
       "    </tr>\n",
       "    <tr>\n",
       "      <th>8708</th>\n",
       "      <td>3 Series</td>\n",
       "      <td>2018.0</td>\n",
       "      <td>18000.0</td>\n",
       "      <td>Automatic</td>\n",
       "      <td>24716.0</td>\n",
       "      <td>Diesel</td>\n",
       "      <td>150.0</td>\n",
       "      <td>64.0</td>\n",
       "      <td>0.0</td>\n",
       "    </tr>\n",
       "    <tr>\n",
       "      <th>8710</th>\n",
       "      <td>1 Series</td>\n",
       "      <td>2016.0</td>\n",
       "      <td>12400.0</td>\n",
       "      <td>Manual</td>\n",
       "      <td>24528.0</td>\n",
       "      <td>Diesel</td>\n",
       "      <td>20.0</td>\n",
       "      <td>68.0</td>\n",
       "      <td>0.0</td>\n",
       "    </tr>\n",
       "    <tr>\n",
       "      <th>8735</th>\n",
       "      <td>2 Series</td>\n",
       "      <td>2016.0</td>\n",
       "      <td>15000.0</td>\n",
       "      <td>Automatic</td>\n",
       "      <td>17097.0</td>\n",
       "      <td>Diesel</td>\n",
       "      <td>20.0</td>\n",
       "      <td>68.0</td>\n",
       "      <td>0.0</td>\n",
       "    </tr>\n",
       "    <tr>\n",
       "      <th>8934</th>\n",
       "      <td>2 Series</td>\n",
       "      <td>2015.0</td>\n",
       "      <td>14700.0</td>\n",
       "      <td>Automatic</td>\n",
       "      <td>32882.0</td>\n",
       "      <td>Diesel</td>\n",
       "      <td>125.0</td>\n",
       "      <td>60.0</td>\n",
       "      <td>0.0</td>\n",
       "    </tr>\n",
       "    <tr>\n",
       "      <th>8955</th>\n",
       "      <td>3 Series</td>\n",
       "      <td>2018.0</td>\n",
       "      <td>18000.0</td>\n",
       "      <td>Automatic</td>\n",
       "      <td>24240.0</td>\n",
       "      <td>Diesel</td>\n",
       "      <td>150.0</td>\n",
       "      <td>64.0</td>\n",
       "      <td>0.0</td>\n",
       "    </tr>\n",
       "    <tr>\n",
       "      <th>9981</th>\n",
       "      <td>X5</td>\n",
       "      <td>2016.0</td>\n",
       "      <td>39948.0</td>\n",
       "      <td>Automatic</td>\n",
       "      <td>49000.0</td>\n",
       "      <td>Petrol</td>\n",
       "      <td>570.0</td>\n",
       "      <td>25.0</td>\n",
       "      <td>0.0</td>\n",
       "    </tr>\n",
       "  </tbody>\n",
       "</table>\n",
       "</div>"
      ],
      "text/plain": [
       "          model    year    price transmission  mileage fuelType    tax   mpg  \\\n",
       "7422   1 Series  2017.0  12800.0       Manual  18067.0   Petrol   20.0  68.0   \n",
       "7452   3 Series  2018.0  18000.0    Automatic  21057.0   Diesel  150.0  64.0   \n",
       "8599   1 Series  2017.0  13500.0       Manual  16681.0   Diesel  150.0  68.0   \n",
       "8699   1 Series  2017.0  12800.0       Manual  30521.0   Diesel  145.0  68.0   \n",
       "8701   3 Series  2018.0  18000.0    Automatic  23611.0   Diesel  150.0  64.0   \n",
       "8708   3 Series  2018.0  18000.0    Automatic  24716.0   Diesel  150.0  64.0   \n",
       "8710   1 Series  2016.0  12400.0       Manual  24528.0   Diesel   20.0  68.0   \n",
       "8735   2 Series  2016.0  15000.0    Automatic  17097.0   Diesel   20.0  68.0   \n",
       "8934   2 Series  2015.0  14700.0    Automatic  32882.0   Diesel  125.0  60.0   \n",
       "8955   3 Series  2018.0  18000.0    Automatic  24240.0   Diesel  150.0  64.0   \n",
       "9981         X5  2016.0  39948.0    Automatic  49000.0   Petrol  570.0  25.0   \n",
       "\n",
       "      engineSize  \n",
       "7422         0.0  \n",
       "7452         0.0  \n",
       "8599         0.0  \n",
       "8699         0.0  \n",
       "8701         0.0  \n",
       "8708         0.0  \n",
       "8710         0.0  \n",
       "8735         0.0  \n",
       "8934         0.0  \n",
       "8955         0.0  \n",
       "9981         0.0  "
      ]
     },
     "execution_count": 26,
     "metadata": {},
     "output_type": "execute_result"
    }
   ],
   "source": [
    "BMW_v5[BMW_v5.engineSize <= 1.0]"
   ]
  },
  {
   "cell_type": "markdown",
   "metadata": {},
   "source": [
    "As suspected, 11 cars in the dataset with engine size below 1.0 are data errors with 0 engine size and eliminating these points would not affect the analysis considering the size of the dataset.  \n",
    "\n",
    "Also there are data poins with engine size above 3.0 liters, which are very few. Those points should be investigate to either keep in the dataset or eliminate."
   ]
  },
  {
   "cell_type": "code",
   "execution_count": 27,
   "metadata": {},
   "outputs": [
    {
     "data": {
      "text/plain": [
       "engineSize\n",
       "4.4    72\n",
       "6.6     2\n",
       "4.0     2\n",
       "dtype: int64"
      ]
     },
     "execution_count": 27,
     "metadata": {},
     "output_type": "execute_result"
    }
   ],
   "source": [
    "BMW_v5[BMW_v5.engineSize > 3].value_counts(\"engineSize\")"
   ]
  },
  {
   "cell_type": "code",
   "execution_count": 28,
   "metadata": {
    "scrolled": false
   },
   "outputs": [
    {
     "data": {
      "text/plain": [
       "model\n",
       " M5          28\n",
       " X5          14\n",
       " 7 Series     9\n",
       " M6           7\n",
       " 6 Series     5\n",
       " 8 Series     5\n",
       " X6           4\n",
       " M3           2\n",
       " 5 Series     2\n",
       " 2 Series     0\n",
       " 3 Series     0\n",
       " 4 Series     0\n",
       " M2           0\n",
       " i8           0\n",
       " M4           0\n",
       " i3           0\n",
       " X1           0\n",
       " X2           0\n",
       " X3           0\n",
       " X4           0\n",
       " X7           0\n",
       " Z3           0\n",
       " Z4           0\n",
       " 1 Series     0\n",
       "dtype: int64"
      ]
     },
     "execution_count": 28,
     "metadata": {},
     "output_type": "execute_result"
    }
   ],
   "source": [
    "BMW_v5[BMW_v5.engineSize > 3].value_counts(\"model\")"
   ]
  },
  {
   "cell_type": "markdown",
   "metadata": {},
   "source": [
    "Although for engine size, values over 3.0 seems like outliers, eliminating these values from datasets would have an impact on the analysis as these values belong to limited number of high end vehicles."
   ]
  },
  {
   "cell_type": "code",
   "execution_count": 73,
   "metadata": {},
   "outputs": [
    {
     "data": {
      "text/html": [
       "<div>\n",
       "<style scoped>\n",
       "    .dataframe tbody tr th:only-of-type {\n",
       "        vertical-align: middle;\n",
       "    }\n",
       "\n",
       "    .dataframe tbody tr th {\n",
       "        vertical-align: top;\n",
       "    }\n",
       "\n",
       "    .dataframe thead th {\n",
       "        text-align: right;\n",
       "    }\n",
       "</style>\n",
       "<table border=\"1\" class=\"dataframe\">\n",
       "  <thead>\n",
       "    <tr style=\"text-align: right;\">\n",
       "      <th></th>\n",
       "      <th>year</th>\n",
       "      <th>price</th>\n",
       "      <th>mileage</th>\n",
       "      <th>tax</th>\n",
       "      <th>mpg</th>\n",
       "      <th>engineSize</th>\n",
       "    </tr>\n",
       "  </thead>\n",
       "  <tbody>\n",
       "    <tr>\n",
       "      <th>count</th>\n",
       "      <td>9884.000000</td>\n",
       "      <td>9884.000000</td>\n",
       "      <td>9884.000000</td>\n",
       "      <td>9884.000000</td>\n",
       "      <td>9884.000000</td>\n",
       "      <td>9884.000000</td>\n",
       "    </tr>\n",
       "    <tr>\n",
       "      <th>mean</th>\n",
       "      <td>2017.241603</td>\n",
       "      <td>22946.148321</td>\n",
       "      <td>23144.057972</td>\n",
       "      <td>131.592473</td>\n",
       "      <td>52.648422</td>\n",
       "      <td>2.180838</td>\n",
       "    </tr>\n",
       "    <tr>\n",
       "      <th>std</th>\n",
       "      <td>1.945297</td>\n",
       "      <td>10935.522085</td>\n",
       "      <td>21820.504375</td>\n",
       "      <td>56.606526</td>\n",
       "      <td>11.293358</td>\n",
       "      <td>0.534450</td>\n",
       "    </tr>\n",
       "    <tr>\n",
       "      <th>min</th>\n",
       "      <td>2012.000000</td>\n",
       "      <td>3076.000000</td>\n",
       "      <td>1.000000</td>\n",
       "      <td>0.000000</td>\n",
       "      <td>22.000000</td>\n",
       "      <td>1.500000</td>\n",
       "    </tr>\n",
       "    <tr>\n",
       "      <th>25%</th>\n",
       "      <td>2016.000000</td>\n",
       "      <td>15083.000000</td>\n",
       "      <td>5242.500000</td>\n",
       "      <td>145.000000</td>\n",
       "      <td>45.000000</td>\n",
       "      <td>2.000000</td>\n",
       "    </tr>\n",
       "    <tr>\n",
       "      <th>50%</th>\n",
       "      <td>2017.000000</td>\n",
       "      <td>20875.000000</td>\n",
       "      <td>16892.000000</td>\n",
       "      <td>145.000000</td>\n",
       "      <td>52.000000</td>\n",
       "      <td>2.000000</td>\n",
       "    </tr>\n",
       "    <tr>\n",
       "      <th>75%</th>\n",
       "      <td>2019.000000</td>\n",
       "      <td>27955.000000</td>\n",
       "      <td>35499.250000</td>\n",
       "      <td>145.000000</td>\n",
       "      <td>62.000000</td>\n",
       "      <td>2.000000</td>\n",
       "    </tr>\n",
       "    <tr>\n",
       "      <th>max</th>\n",
       "      <td>2020.000000</td>\n",
       "      <td>89900.000000</td>\n",
       "      <td>112000.000000</td>\n",
       "      <td>570.000000</td>\n",
       "      <td>85.000000</td>\n",
       "      <td>6.600000</td>\n",
       "    </tr>\n",
       "  </tbody>\n",
       "</table>\n",
       "</div>"
      ],
      "text/plain": [
       "              year         price        mileage          tax          mpg  \\\n",
       "count  9884.000000   9884.000000    9884.000000  9884.000000  9884.000000   \n",
       "mean   2017.241603  22946.148321   23144.057972   131.592473    52.648422   \n",
       "std       1.945297  10935.522085   21820.504375    56.606526    11.293358   \n",
       "min    2012.000000   3076.000000       1.000000     0.000000    22.000000   \n",
       "25%    2016.000000  15083.000000    5242.500000   145.000000    45.000000   \n",
       "50%    2017.000000  20875.000000   16892.000000   145.000000    52.000000   \n",
       "75%    2019.000000  27955.000000   35499.250000   145.000000    62.000000   \n",
       "max    2020.000000  89900.000000  112000.000000   570.000000    85.000000   \n",
       "\n",
       "        engineSize  \n",
       "count  9884.000000  \n",
       "mean      2.180838  \n",
       "std       0.534450  \n",
       "min       1.500000  \n",
       "25%       2.000000  \n",
       "50%       2.000000  \n",
       "75%       2.000000  \n",
       "max       6.600000  "
      ]
     },
     "execution_count": 73,
     "metadata": {},
     "output_type": "execute_result"
    }
   ],
   "source": [
    "BMW_v6 = BMW_v5[BMW_v5.engineSize > 1.0]\n",
    "\n",
    "BMW_v6.describe()"
   ]
  },
  {
   "cell_type": "markdown",
   "metadata": {},
   "source": [
    "# 6. Exploratory Data Analysis Summary\n",
    "\n",
    "During the exploratory data analysis, the relationships between features and target variable have been inspected. There are strong correlations between year, mileage and price variables. These can be explained as newer cars and less used cars tend to cost more as they are technologically more advanced and less likely to be problematic. Also one can expect that the vehicles which are newer have less mileage.\n",
    "\n",
    "It is also discovered that model affects the price as different models have different monetary values and, engine sizes and models are dependent on each other, as each model are produced with specific engine sizes."
   ]
  },
  {
   "cell_type": "markdown",
   "metadata": {},
   "source": [
    "# 7. Model Development"
   ]
  },
  {
   "cell_type": "markdown",
   "metadata": {},
   "source": [
    "The dataset consists of both categorical and numerical features and the target \n",
    "value is a single numerical value. A tree based regressor would perform well with this dataset and as mentioned above in the 4th section, mean absolute error will be utilized to measure the performance of the model.\n",
    "\n",
    "In this study, Light Gradient Boosting Regressor, Extreme Gradient Boosting Regressor, Extreme Gradient Boosting Random Forst Regressor and Random Forest Regressor will be used in a pipeline with a One-Hot Encoder and best parameters for these pipelines will be searched with a GridSearchCV object."
   ]
  },
  {
   "cell_type": "code",
   "execution_count": 30,
   "metadata": {},
   "outputs": [],
   "source": [
    "# Importing necessary classes and functions\n",
    "\n",
    "from sklearn.preprocessing import OneHotEncoder\n",
    "from sklearn.compose import make_column_transformer\n",
    "from sklearn.compose import make_column_selector\n",
    "\n",
    "from sklearn.model_selection import train_test_split\n",
    "from sklearn.model_selection import GridSearchCV\n",
    "\n",
    "from sklearn.pipeline import make_pipeline\n",
    "from sklearn.pipeline import Pipeline\n",
    "\n",
    "from lightgbm import LGBMRegressor\n",
    "from xgboost import XGBRFRegressor\n",
    "from xgboost import XGBRegressor\n",
    "from sklearn.ensemble import RandomForestRegressor\n",
    "\n",
    "from sklearn.metrics import mean_absolute_error"
   ]
  },
  {
   "cell_type": "code",
   "execution_count": 31,
   "metadata": {},
   "outputs": [],
   "source": [
    "# Setting up one-hot encoder to transform categorical variables into dummies\n",
    "oh_encoder =  make_column_transformer((OneHotEncoder(sparse = False,\n",
    "                                                    handle_unknown = 'ignore'),\n",
    "                                      make_column_selector(dtype_include = 'category')),\n",
    "                                      remainder = 'passthrough',\n",
    "                                      n_jobs = -1\n",
    "                                     )"
   ]
  },
  {
   "cell_type": "code",
   "execution_count": 32,
   "metadata": {},
   "outputs": [],
   "source": [
    "# The parameter grid for Grid Search Cross-Validation will be the same for\n",
    "# XGBRegressor and XGBRFRegressor, but number of leaves will be used with LGBMRegressor\n",
    "# and RandomForestRegressor will not have learning rate.\n",
    "\n",
    "parameter_grid_LGB = {'clf__n_estimators': [20, 40, 50],\n",
    "                 'clf__max_depth': [5,6,8,9,None],\n",
    "                 'clf__num_leaves': [20, 30, 40],\n",
    "                 'clf__learning_rate': [0.05, 0.1, 0.15]}\n",
    "\n",
    "parameter_grid_XGB = {'clf__n_estimators': [20, 40, 50],\n",
    "                 'clf__max_depth': [5,6,8,9,None],\n",
    "                 'clf__learning_rate': [0.05, 0.1, 0.15]}\n",
    "\n",
    "parameter_grid_RFR = {'clf__n_estimators': [30, 40, 50],\n",
    "                 'clf__max_depth': [8,9,None]}"
   ]
  },
  {
   "cell_type": "code",
   "execution_count": 33,
   "metadata": {},
   "outputs": [],
   "source": [
    "# Splitting the dataset into train and test datasets\n",
    "X = BMW_v6\n",
    "y = X.pop('price')\n",
    "\n",
    "X_train, X_test, y_train, y_test = train_test_split(X,\n",
    "                                                    y,\n",
    "                                                    test_size = 0.25,\n",
    "                                                    random_state = 123,\n",
    "                                                    shuffle = True)"
   ]
  },
  {
   "cell_type": "code",
   "execution_count": 35,
   "metadata": {},
   "outputs": [
    {
     "name": "stdout",
     "output_type": "stream",
     "text": [
      "Best Params For LGBM Regressor: \n",
      " {'clf__learning_rate': 0.15, 'clf__max_depth': None, 'clf__n_estimators': 50, 'clf__num_leaves': 40} \n",
      "Best Score For LGBM Regressor:  -1526.5953788620043 \n",
      "MAE score on test data:  1532.8898801253054\n"
     ]
    }
   ],
   "source": [
    "# Starting with Ligth Gradient Boosting Method\n",
    "\n",
    "lgbm_pipe = Pipeline([('oh_encoder', oh_encoder), \n",
    "                          ('clf', LGBMRegressor(random_state = 123))])\n",
    "\n",
    "gs_lgbm = GridSearchCV(lgbm_pipe,\n",
    "                       parameter_grid_LGB,\n",
    "                       cv = 5,\n",
    "                       scoring = 'neg_mean_absolute_error',\n",
    "                      return_train_score = True)\n",
    "gs_lgbm.fit(X_train, y_train)\n",
    "\n",
    "print('Best Params For LGBM Regressor: \\n', gs_lgbm.best_params_,\n",
    "      '\\nBest Score For LGBM Regressor: ', gs_lgbm.best_score_,\n",
    "      '\\nMAE score on test data: ', mean_absolute_error(y_test, gs_lgbm.predict(X_test)))"
   ]
  },
  {
   "cell_type": "code",
   "execution_count": 36,
   "metadata": {},
   "outputs": [
    {
     "name": "stdout",
     "output_type": "stream",
     "text": [
      "Best Params For XGBRF Regressor: \n",
      " {'clf__learning_rate': 0.15, 'clf__max_depth': 6, 'clf__n_estimators': 40} \n",
      "Best Score For XGBRF Regressor:  -19413.6625633909 \n",
      "MAE score on test data:  19788.76598582621\n"
     ]
    }
   ],
   "source": [
    "# Now, XGBRFRegressor\n",
    "\n",
    "xgbrf_pipe = Pipeline([('oh_encoder', oh_encoder), \n",
    "                          ('clf', XGBRFRegressor(random_state = 123))])\n",
    "\n",
    "gs_xgbrf = GridSearchCV(xgbrf_pipe,\n",
    "                       parameter_grid_XGB,\n",
    "                       cv = 5,\n",
    "                       scoring = 'neg_mean_absolute_error',\n",
    "                      return_train_score = True)\n",
    "gs_xgbrf.fit(X_train, y_train)\n",
    "\n",
    "print('Best Params For XGBRF Regressor: \\n', gs_xgbrf.best_params_,\n",
    "      '\\nBest Score For XGBRF Regressor: ', gs_xgbrf.best_score_,\n",
    "      '\\nMAE score on test data: ', mean_absolute_error(y_test, gs_xgbrf.predict(X_test)))"
   ]
  },
  {
   "cell_type": "code",
   "execution_count": 37,
   "metadata": {},
   "outputs": [
    {
     "name": "stdout",
     "output_type": "stream",
     "text": [
      "Best Params For XGB Regressor: \n",
      " {'clf__learning_rate': 0.15, 'clf__max_depth': 9, 'clf__n_estimators': 50} \n",
      "Best Score For XGB Regressor:  -1464.1448680677884 \n",
      "MAE score on test data:  1483.519436399737\n"
     ]
    }
   ],
   "source": [
    "# Now, XGBRegressor\n",
    "\n",
    "xgb_pipe = Pipeline([('oh_encoder', oh_encoder), \n",
    "                          ('clf', XGBRegressor(random_state = 123))])\n",
    "\n",
    "gs_xgb = GridSearchCV(xgb_pipe,\n",
    "                       parameter_grid_XGB,\n",
    "                       cv = 5,\n",
    "                       scoring = 'neg_mean_absolute_error',\n",
    "                      return_train_score = True)\n",
    "gs_xgb.fit(X_train, y_train)\n",
    "\n",
    "print('Best Params For XGB Regressor: \\n', gs_xgb.best_params_,\n",
    "      '\\nBest Score For XGB Regressor: ', gs_xgb.best_score_,\n",
    "     '\\nMAE score on test data: ', mean_absolute_error(y_test, gs_xgb.predict(X_test)))"
   ]
  },
  {
   "cell_type": "code",
   "execution_count": 38,
   "metadata": {},
   "outputs": [
    {
     "name": "stdout",
     "output_type": "stream",
     "text": [
      "Best Params For Random Forest Regressor: \n",
      " {'clf__max_depth': None, 'clf__n_estimators': 50} \n",
      "Best Score For Random Forest Regressor:  -1520.6485753155646 \n",
      "MAE score on test data:  1538.0875354107648\n"
     ]
    }
   ],
   "source": [
    "# Lastly, Random Forest Regressor Method\n",
    "\n",
    "rf_pipe = Pipeline([('oh_encoder', oh_encoder), \n",
    "                          ('clf', RandomForestRegressor(random_state = 123,\n",
    "                                                       criterion = 'mae',\n",
    "                                                       n_jobs = -1))])\n",
    "\n",
    "gs_rf = GridSearchCV(rf_pipe,\n",
    "                       parameter_grid_RFR,\n",
    "                       cv = 5,\n",
    "                       scoring = 'neg_mean_absolute_error',\n",
    "                      return_train_score = True)\n",
    "gs_rf.fit(X_train, y_train)\n",
    "\n",
    "print('Best Params For Random Forest Regressor: \\n', gs_rf.best_params_,\n",
    "      '\\nBest Score For Random Forest Regressor: ', gs_rf.best_score_,\n",
    "     '\\nMAE score on test data: ', mean_absolute_error(y_test, gs_rf.predict(X_test)))"
   ]
  },
  {
   "cell_type": "markdown",
   "metadata": {},
   "source": [
    "Extreme Gradient Boosting Regressor performed the best among these models with a MAE of 1464.14 for train dataset and 1483.52 for test dataset. Scores for train and test data being this close indicates that there is no overfitting. However, the best parameters for this model are those in the upper boundary of parameter grid. It should be seen if this model would perform better with a different parameter grid."
   ]
  },
  {
   "cell_type": "code",
   "execution_count": 40,
   "metadata": {},
   "outputs": [
    {
     "name": "stdout",
     "output_type": "stream",
     "text": [
      "Best Params For XGB Regressor: \n",
      " {'clf__learning_rate': 0.15, 'clf__max_depth': 10, 'clf__n_estimators': 60} \n",
      "Best Score For XGB Regressor:  -1454.3282968266758 \n",
      "MAE score on test data:  1464.553199141289\n"
     ]
    }
   ],
   "source": [
    "parameter_grid_XGB_2 = {'clf__n_estimators': [50, 60, 80, 100],\n",
    "                 'clf__max_depth': [9, 10, 11, None],\n",
    "                 'clf__learning_rate': [0.15, 0.2, 0.25]}\n",
    "\n",
    "xgb_pipe = Pipeline([('oh_encoder', oh_encoder), \n",
    "                          ('clf', XGBRegressor(random_state = 123))])\n",
    "\n",
    "gs_xgb_2 = GridSearchCV(xgb_pipe,\n",
    "                       parameter_grid_XGB_2,\n",
    "                       cv = 5,\n",
    "                       scoring = 'neg_mean_absolute_error',\n",
    "                      return_train_score = True)\n",
    "gs_xgb_2.fit(X_train, y_train)\n",
    "\n",
    "print('Best Params For XGB Regressor: \\n', gs_xgb_2.best_params_,\n",
    "      '\\nBest Score For XGB Regressor: ', gs_xgb_2.best_score_,\n",
    "     '\\nMAE score on test data: ', mean_absolute_error(y_test, gs_xgb_2.predict(X_test)))"
   ]
  },
  {
   "cell_type": "markdown",
   "metadata": {},
   "source": [
    "Looking at the score above, we can see that the best performing model is Extreme Gradient Boosting Regression with 60 estimators, 10 max depth and 0.15 learning rate, having MAE with training dataset of 1454.33, and training dataset of 1464.55."
   ]
  },
  {
   "cell_type": "code",
   "execution_count": 126,
   "metadata": {},
   "outputs": [
    {
     "data": {
      "image/png": "[encoded data removed]",
      "text/plain": [
       "<Figure size 432x288 with 1 Axes>"
      ]
     },
     "metadata": {},
     "output_type": "display_data"
    }
   ],
   "source": [
    "diff_series = y_test.reset_index(drop = True) - pd.Series(gs_xgb_2.predict(X_test))\n",
    "sns.histplot(data = diff_series, kde = True).set_title('Distribution of differences between predicted values and realized prices', size = 16)\n",
    "plt.show()"
   ]
  },
  {
   "cell_type": "markdown",
   "metadata": {},
   "source": [
    "From the histogram above, it can be seen that most of the predicted values does not differ from the realized values significantly. So, the model trained in this study seems to be considerably accurate.\n",
    "\n",
    "Weights of the features should also be investigated to validate the results with price correlations."
   ]
  },
  {
   "cell_type": "code",
   "execution_count": 76,
   "metadata": {},
   "outputs": [
    {
     "data": {
      "image/png": "[encoded data removed]",
      "text/plain": [
       "<Figure size 432x288 with 1 Axes>"
      ]
     },
     "metadata": {},
     "output_type": "display_data"
    }
   ],
   "source": [
    "# Extracting the best model from GridSearchCV\n",
    "best_model = gs_xgb_2.best_estimator_\n",
    "\n",
    "# Extracting the feature names and renaming them\n",
    "feature_names = best_model.named_steps.oh_encoder.get_feature_names()\n",
    "\n",
    "feature_names = [i.replace('onehotencoder__x0_', 'model') for i in feature_names]\n",
    "feature_names = [i.replace('onehotencoder__x1_', 'transmission ') for i in feature_names]\n",
    "feature_names = [i.replace('onehotencoder__x2_', 'fuelType ') for i in feature_names]\n",
    "\n",
    "# Extracting the feature importances\n",
    "feature_importances = best_model[1].feature_importances_\n",
    "\n",
    "# Selecting those with significant importances\n",
    "importances = pd.Series(feature_importances, feature_names)\n",
    "importances = importances.sort_values(ascending = False)\n",
    "importances = importances[importances > 0.01]\n",
    "\n",
    "# Plotting the significant feature importances\n",
    "sns.barplot(x = importances, y = importances.index)\\\n",
    ".set_title('Feature importances of each feature in the best XGBRegressor estimator', size = 16)\n",
    "plt.show()"
   ]
  },
  {
   "cell_type": "markdown",
   "metadata": {},
   "source": [
    "The graph above shows that while estimating the price value, the estimator considers engine size of a significant importance. Formerly, it is discovered that \"engineSize\" feature has a moderate correlation with \"price\" value. Also, as it is stated before, it can be explained with engine size having a direct effect on the performance of the vehicle.\n",
    "\n",
    "High-end models like X7, 8 series, X5, and lower-end vehicles like 1 Series and 2 Series have a slightly higher importance than middle-end vehicles. This indicates that model of the vehicle actually affects the price value.\n",
    "\n",
    "It can also be seen that model year has a considerable importance. It can be verified via looking at the correlation coefficient between \"year\" and \"price\" values in the dataset, which is 0.63.\n",
    "\n",
    "Another point that needs attention is, \"mileage\" feature has a very little feature importance. This can be explained with the negative correlation between \"year\" and \"mileage\" features. Model year having a high importance in the model let the model to disregard the importance of mileage.\n",
    "\n",
    "Overall, it can be seen that the feature importances of the model are explainable and relatable."
   ]
  },
  {
   "cell_type": "markdown",
   "metadata": {},
   "source": [
    "## 8. Conclusion\n",
    "\n",
    "This study aimed to build a predictive model to help to assess BMW used prices, with the increasing demand of used cars during the CoViD-19 pandemic using the dataset published on Datacamp Github repository.\n",
    "\n",
    "An extreme gradient boosting method regression model is developed to predict \"price\" value, given in Dollars. The model uses engine size, model year, model and miles per gallon information about the vehicle.\n",
    "\n",
    "The performance of the model is measured with mean absolute error. This measurement helped to train a model that predicts values as accurately as possible without punishing extreme mispredictions too greatly, as cost of an extreme misprediction will not be as great as being worse in total of mispredictions.\n",
    "\n",
    "The mean absolute error value of the model is close for both training and testing dataset and have the values 1454.33 and 1464.55 respectively. Considering the mean price in the dataset, which is 22946.15 Dollars and the standard deviaton of 10935.52 Dollars, this deviation is considerably low and performance of model is decent enough to be used in prediction of a certain vehicle by retailers. \n",
    "\n",
    "To improve the performance of the model, a different outlier analysis practice can be used, feature engineering practices can be applied, a more specific grid search can be conducted or a different type of prediction model can be utilized."
   ]
  },
  {
   "cell_type": "markdown",
   "metadata": {},
   "source": [
    "## 9. References"
   ]
  },
  {
   "cell_type": "markdown",
   "metadata": {},
   "source": [
    "1. The dataset is provided by [Datacamp Career Hub on Github](https://github.com/datacamp/careerhub-data/blob/master/BMW%20Used%20Car%20Sales/README.md#bmw-used-car-sales)\n",
    "2. Chen, T., & Guestrin, C. (2016). XGBoost: A Scalable Tree Boosting System. In Proceedings of the 22nd ACM SIGKDD International Conference on Knowledge Discovery and Data Mining (pp. 785–794). New York, NY, USA: ACM. https://doi.org/10.1145/2939672.2939785\n",
    "3. [Scikit-learn: Machine Learning in Python](http://jmlr.csail.mit.edu/papers/v12/pedregosa11a.html), Pedregosa et al., JMLR 12, pp. 2825-2830, 2011.\n",
    "4. [Sample Project Provided on Datacamp Certification Program Guideline](https://s3.amazonaws.com/talent-assets.datacamp.com/case_study_sample.pdf)\n",
    "5. [Engine Chart on CJPonyParts.com](https://www.cjponyparts.com/resources/engine-size-chart)\n",
    "6. [10 Cars with the Smallest Engines for the Highest EPA grades on Autobytel.com](https://www.autobytel.com/car-buying-guides/features/10-cars-with-the-smallest-engines-for-the-highest-epa-grades-129325/)"
   ]
  }
 ],
 "metadata": {
  "kernelspec": {
   "display_name": "Python 3",
   "language": "python",
   "name": "python3"
  },
  "language_info": {
   "codemirror_mode": {
    "name": "ipython",
    "version": 3
   },
   "file_extension": ".py",
   "mimetype": "text/x-python",
   "name": "python",
   "nbconvert_exporter": "python",
   "pygments_lexer": "ipython3",
   "version": "3.8.5"
  }
 },
 "nbformat": 4,
 "nbformat_minor": 4
}
